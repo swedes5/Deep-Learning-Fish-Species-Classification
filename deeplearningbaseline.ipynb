{
  "nbformat": 4,
  "nbformat_minor": 0,
  "metadata": {
    "colab": {
      "provenance": [],
      "collapsed_sections": []
    },
    "kernelspec": {
      "name": "python3",
      "display_name": "Python 3"
    },
    "language_info": {
      "name": "python"
    },
    "accelerator": "GPU",
    "gpuClass": "standard"
  },
  "cells": [
    {
      "cell_type": "code",
      "execution_count": 1,
      "metadata": {
        "id": "kWaJD3NT7XTP"
      },
      "outputs": [],
      "source": []
    },
    {
      "cell_type": "code",
      "execution_count": 2,
      "metadata": {
        "colab": {
          "base_uri": "https://localhost:8080/"
        },
        "id": "9PkvQ8G1yN7g",
        "outputId": "44f4feef-7a37-4891-c330-937a50d5802a"
      },
      "outputs": [
        {
          "output_type": "stream",
          "name": "stdout",
          "text": [
            "Mounted at /content/gdrive\n",
            "Populating the interactive namespace from numpy and matplotlib\n"
          ]
        }
      ],
      "source": [
        "#cleaner imports\n",
        "\n",
        "#importing folders from my drive and unzipping\n",
        "from google.colab import drive\n",
        "drive.mount('/content/gdrive')\n",
        "#!unzip /content/gdrive/MyDrive/fish_data.zip\n",
        "\n",
        "#python libraries import\n",
        "import pandas as pd\n",
        "%pylab inline \n",
        "import seaborn as sns\n",
        "sns.set()\n",
        "\n",
        "#sklearn libraries\n",
        "import sklearn\n",
        "from sklearn.metrics import accuracy_score\n",
        "from sklearn.preprocessing import StandardScaler\n",
        "from sklearn.decomposition import PCA\n",
        "from sklearn.feature_extraction.text import TfidfVectorizer\n",
        "from sklearn.model_selection import train_test_split\n",
        "from sklearn.linear_model import LogisticRegression\n",
        "from sklearn.naive_bayes import MultinomialNB\n",
        "from sklearn.cluster import KMeans\n",
        "\n",
        "#other libraries\n",
        "from gensim.models.keyedvectors import KeyedVectors\n",
        "from os import listdir\n",
        "from os.path import isfile, join\n",
        "import os\n",
        "import skimage\n",
        "from skimage import io\n",
        "from IPython.display import SVG\n",
        "\n",
        "# keras imports\n",
        "import tensorflow as tf\n",
        "from tensorflow.keras.utils import model_to_dot\n",
        "from tensorflow.keras.preprocessing.text import Tokenizer\n",
        "from tensorflow.keras.preprocessing.sequence import pad_sequences\n",
        "from tensorflow.keras.models import Model, Sequential\n",
        "from tensorflow.keras.layers import Dense, Activation, Dropout, Lambda\n",
        "from tensorflow.keras.layers import Input, Embedding, Bidirectional, LSTM\n",
        "from tensorflow.keras.preprocessing.image import ImageDataGenerator\n",
        "from tensorflow.keras.preprocessing.image import load_img, img_to_array\n",
        "from tensorflow.keras.layers import Conv2D, MaxPooling2D\n",
        "from tensorflow.keras.layers import Flatten\n",
        "from tensorflow.keras import backend as K\n",
        "from tensorflow.keras.models import load_model\n",
        "from tensorflow.keras.preprocessing import image\n",
        "from tensorflow.keras.optimizers import RMSprop\n",
        "from tensorflow.keras.utils import to_categorical\n",
        "from tensorflow.keras import optimizers\n",
        "from keras.preprocessing.image import array_to_img\n",
        "from tensorflow.keras.applications.inception_v3 import InceptionV3\n",
        "from tensorflow.keras.applications.inception_v3 import preprocess_input\n",
        "\n",
        "#flattening libraries\n",
        "import numpy as np\n",
        "import cv2 as cv\n",
        "from google.colab.patches import cv2_imshow\n",
        "from PIL import Image\n",
        "import matplotlib.pylab as plt\n",
        "from numpy import array\n",
        "from sys import getsizeof\n",
        "import warnings\n",
        "import PIL"
      ]
    },
    {
      "cell_type": "code",
      "source": [
        "#using imagedatagenerator\n",
        "datagen = ImageDataGenerator(rescale = 1/255,\n",
        "                             validation_split=.2)\n",
        "\n",
        "datagen_test = ImageDataGenerator(rescale= 1/255)"
      ],
      "metadata": {
        "id": "hoae0_cf7iEB"
      },
      "execution_count": 3,
      "outputs": []
    },
    {
      "cell_type": "code",
      "source": [
        "img_size=[224,224]"
      ],
      "metadata": {
        "id": "biYq8nF57iGM"
      },
      "execution_count": 4,
      "outputs": []
    },
    {
      "cell_type": "code",
      "source": [
        "#splitting data into train, val, test: train 7208, val = 1802, test = 430\n",
        "\n",
        "train_set = datagen.flow_from_directory(\n",
        "    '/content/gdrive/MyDrive/fish_train_val',\n",
        "    target_size = (224,224),\n",
        "    batch_size = 32,\n",
        "    class_mode = 'categorical')\n",
        "\n",
        "\n",
        "\n",
        "test_set = datagen_test.flow_from_directory(\n",
        "    '/content/gdrive/MyDrive/fish_50_each',\n",
        "    target_size = (224,224),\n",
        "    batch_size=32,\n",
        "    class_mode='categorical')"
      ],
      "metadata": {
        "colab": {
          "base_uri": "https://localhost:8080/"
        },
        "id": "U0nmOP_p92RY",
        "outputId": "d74b795a-14df-4da7-a418-4772b933b769"
      },
      "execution_count": 5,
      "outputs": [
        {
          "output_type": "stream",
          "name": "stdout",
          "text": [
            "Found 9010 images belonging to 9 classes.\n",
            "Found 430 images belonging to 9 classes.\n"
          ]
        }
      ]
    },
    {
      "cell_type": "code",
      "source": [
        "#splitting data into train, val, test: train 7208, val = 1802, test = 430 ... with new split\n",
        "\n",
        "train_set2 = datagen.flow_from_directory(\n",
        "    '/content/gdrive/MyDrive/fish_train_val_v2',\n",
        "    target_size = (224,224),\n",
        "    batch_size = 20,\n",
        "    #batch_size=1,\n",
        "    class_mode = 'categorical')\n",
        "\n",
        "\n",
        "\n",
        "test_set2 = datagen_test.flow_from_directory(\n",
        "    '/content/gdrive/MyDrive/fish_200_each',\n",
        "    target_size = (224,224),\n",
        "    batch_size=30,\n",
        "    #batch_size=1,\n",
        "    class_mode='categorical')"
      ],
      "metadata": {
        "colab": {
          "base_uri": "https://localhost:8080/"
        },
        "id": "aAhlcR5NmYSG",
        "outputId": "bbfdfd2a-c116-44b4-bf86-1a05fc8a405e"
      },
      "execution_count": 6,
      "outputs": [
        {
          "output_type": "stream",
          "name": "stdout",
          "text": [
            "Found 7600 images belonging to 9 classes.\n",
            "Found 1830 images belonging to 9 classes.\n"
          ]
        }
      ]
    },
    {
      "cell_type": "code",
      "source": [
        "#building cnn\n",
        "from tensorflow.keras.layers import InputLayer, GlobalAveragePooling2D\n",
        "\n",
        "NN = Sequential()\n",
        "\n",
        "NN.add(InputLayer(input_shape=img_size + [3]))\n",
        "\n",
        "# Conv block 1.  You can add more conv steps to\n",
        "# each block to increase model capacity.\n",
        "NN.add(Conv2D(filters=10, kernel_size=3, activation='relu', padding='same'))\n",
        "# NN.add(Conv2D(filters=16, kernel_size=3, activation='relu', padding='same'))\n",
        "NN.add(MaxPooling2D())\n",
        "\n",
        "# Conv block 2 - note we increase filter dimension as we move\n",
        "# further into the network. You can add more conv steps to\n",
        "# each block to increase model capacity.\n",
        "NN.add(Conv2D(filters=20, kernel_size=3, activation='relu', padding='same'))\n",
        "# NN.add(Conv2D(filters=16, kernel_size=3, activation='relu', padding='same'))\n",
        "NN.add(MaxPooling2D())\n",
        "\n",
        "# Conv block 3 - The conv blocks should be ended with either a flatten\n",
        "# layer or a global pooling layer. These transform the 2D layers to 1D\n",
        "# to match the following dense layers.\n",
        "NN.add(Conv2D(filters=30, kernel_size=3, activation='relu', padding='same'))\n",
        "\n",
        "NN.add(GlobalAveragePooling2D())\n",
        "\n",
        "# Fully connected block - flattening followed by dense and output layers\n",
        "# NN.add(Flatten())\n",
        "NN.add(Dense(20, activation='relu'))\n",
        "NN.add(Dense(9, activation='softmax'))  # 9 target classes\n",
        "\n",
        "NN.compile(\n",
        "    loss='categorical_crossentropy',\n",
        "    optimizer='adam',\n",
        "    metrics=['accuracy'],\n",
        ")\n",
        "NN.summary()\n",
        "\n",
        "\n",
        "\n",
        "\n",
        "#fitting model\n",
        "from tensorflow.keras.callbacks import ModelCheckpoint, EarlyStopping\n",
        "\n",
        "checkpoint = ModelCheckpoint(\"model2\", monitor='val_accuracy', verbose=1,\n",
        "                             save_best_only=True, save_weights_only=False, mode='auto',\n",
        "                             period=1)\n",
        "callback = EarlyStopping(monitor='val_accuracy', min_delta=0, patience=3, verbose=1, mode='auto')\n",
        "\n",
        "\n",
        "\n",
        "\n",
        "NN.fit(train_set, validation_data=test_set, epochs=10, verbose=1, callbacks=[callback])\n",
        "\n",
        "#len(NN.history['val_acc']) #checking how many epochs are run\n",
        "\n",
        "#initial scores, no tuning, 10 epoch -- loss: 0.6440 - accuracy: 0.7608 - val_loss: 0.8329 - val_accuracy: 0.6930"
      ],
      "metadata": {
        "colab": {
          "base_uri": "https://localhost:8080/"
        },
        "id": "IECY3IWS7iIo",
        "outputId": "e12db37a-c8f4-4ed6-8399-a93a5e6e0898"
      },
      "execution_count": 7,
      "outputs": [
        {
          "output_type": "stream",
          "name": "stdout",
          "text": [
            "Model: \"sequential\"\n",
            "_________________________________________________________________\n",
            " Layer (type)                Output Shape              Param #   \n",
            "=================================================================\n",
            " conv2d (Conv2D)             (None, 224, 224, 10)      280       \n",
            "                                                                 \n",
            " max_pooling2d (MaxPooling2D  (None, 112, 112, 10)     0         \n",
            " )                                                               \n",
            "                                                                 \n",
            " conv2d_1 (Conv2D)           (None, 112, 112, 20)      1820      \n",
            "                                                                 \n",
            " max_pooling2d_1 (MaxPooling  (None, 56, 56, 20)       0         \n",
            " 2D)                                                             \n",
            "                                                                 \n",
            " conv2d_2 (Conv2D)           (None, 56, 56, 30)        5430      \n",
            "                                                                 \n",
            " global_average_pooling2d (G  (None, 30)               0         \n",
            " lobalAveragePooling2D)                                          \n",
            "                                                                 \n",
            " dense (Dense)               (None, 20)                620       \n",
            "                                                                 \n",
            " dense_1 (Dense)             (None, 9)                 189       \n",
            "                                                                 \n",
            "=================================================================\n",
            "Total params: 8,339\n",
            "Trainable params: 8,339\n",
            "Non-trainable params: 0\n",
            "_________________________________________________________________\n"
          ]
        },
        {
          "output_type": "stream",
          "name": "stderr",
          "text": [
            "WARNING:tensorflow:`period` argument is deprecated. Please use `save_freq` to specify the frequency in number of batches seen.\n"
          ]
        },
        {
          "output_type": "stream",
          "name": "stdout",
          "text": [
            "Epoch 1/10\n",
            "282/282 [==============================] - 2236s 8s/step - loss: 1.9417 - accuracy: 0.2484 - val_loss: 1.9322 - val_accuracy: 0.2674\n",
            "Epoch 2/10\n",
            "282/282 [==============================] - 136s 482ms/step - loss: 1.5039 - accuracy: 0.4265 - val_loss: 1.5422 - val_accuracy: 0.4465\n",
            "Epoch 3/10\n",
            "282/282 [==============================] - 130s 462ms/step - loss: 1.2370 - accuracy: 0.5414 - val_loss: 1.5104 - val_accuracy: 0.4651\n",
            "Epoch 4/10\n",
            "282/282 [==============================] - 128s 453ms/step - loss: 1.0797 - accuracy: 0.5895 - val_loss: 1.4060 - val_accuracy: 0.4000\n",
            "Epoch 5/10\n",
            "282/282 [==============================] - 125s 444ms/step - loss: 0.9843 - accuracy: 0.6330 - val_loss: 1.2497 - val_accuracy: 0.5605\n",
            "Epoch 6/10\n",
            "282/282 [==============================] - 127s 451ms/step - loss: 0.9011 - accuracy: 0.6714 - val_loss: 1.2228 - val_accuracy: 0.5000\n",
            "Epoch 7/10\n",
            "282/282 [==============================] - 127s 451ms/step - loss: 0.8161 - accuracy: 0.7031 - val_loss: 0.9557 - val_accuracy: 0.6558\n",
            "Epoch 8/10\n",
            "282/282 [==============================] - 126s 447ms/step - loss: 0.7423 - accuracy: 0.7321 - val_loss: 0.8797 - val_accuracy: 0.6674\n",
            "Epoch 9/10\n",
            "282/282 [==============================] - 128s 455ms/step - loss: 0.6842 - accuracy: 0.7534 - val_loss: 0.8456 - val_accuracy: 0.6930\n",
            "Epoch 10/10\n",
            "282/282 [==============================] - 125s 443ms/step - loss: 0.6269 - accuracy: 0.7741 - val_loss: 0.7987 - val_accuracy: 0.7070\n"
          ]
        },
        {
          "output_type": "execute_result",
          "data": {
            "text/plain": [
              "<keras.callbacks.History at 0x7f976582cb10>"
            ]
          },
          "metadata": {},
          "execution_count": 7
        }
      ]
    },
    {
      "cell_type": "code",
      "source": [
        "#building cnn v2 - usable for the plot because this will be a history object\n",
        "from tensorflow.keras.layers import InputLayer, GlobalAveragePooling2D\n",
        "\n",
        "NN = Sequential()\n",
        "\n",
        "NN.add(InputLayer(input_shape=img_size + [3]))\n",
        "\n",
        "# Conv block 1.  You can add more conv steps to\n",
        "# each block to increase model capacity.\n",
        "NN.add(Conv2D(filters=10, kernel_size=3, activation='relu', padding='same'))\n",
        "# NN.add(Conv2D(filters=16, kernel_size=3, activation='relu', padding='same'))\n",
        "NN.add(MaxPooling2D())\n",
        "\n",
        "# Conv block 2 - note we increase filter dimension as we move\n",
        "# further into the network. You can add more conv steps to\n",
        "# each block to increase model capacity.\n",
        "NN.add(Conv2D(filters=20, kernel_size=3, activation='relu', padding='same'))\n",
        "# NN.add(Conv2D(filters=16, kernel_size=3, activation='relu', padding='same'))\n",
        "NN.add(MaxPooling2D())\n",
        "\n",
        "# Conv block 3 - The conv blocks should be ended with either a flatten\n",
        "# layer or a global pooling layer. These transform the 2D layers to 1D\n",
        "# to match the following dense layers.\n",
        "NN.add(Conv2D(filters=30, kernel_size=3, activation='relu', padding='same'))\n",
        "\n",
        "NN.add(GlobalAveragePooling2D())\n",
        "\n",
        "# Fully connected block - flattening followed by dense and output layers\n",
        "# NN.add(Flatten())\n",
        "NN.add(Dense(20, activation='relu'))\n",
        "NN.add(Dense(9, activation='softmax'))  # 9 target classes\n",
        "\n",
        "NN.compile(\n",
        "    loss='categorical_crossentropy',\n",
        "    optimizer='adam',\n",
        "    metrics=['accuracy'],\n",
        ")\n",
        "NN.summary()\n",
        "\n",
        "\n",
        "\n",
        "\n",
        "#fitting model\n",
        "from tensorflow.keras.callbacks import ModelCheckpoint, EarlyStopping\n",
        "\n",
        "checkpoint = ModelCheckpoint(\"model2\", monitor='val_accuracy', verbose=1,\n",
        "                             save_best_only=True, save_weights_only=False, mode='auto',\n",
        "                             period=1)\n",
        "callback = EarlyStopping(monitor='val_accuracy', min_delta=0, patience=3, verbose=1, mode='auto')\n",
        "\n",
        "\n",
        "\n",
        "\n",
        "#NN = NN.fit(train_set2, validation_data=test_set2, epochs=50, verbose=1) #using NN= NN.fit makes this a history obj for plotting acc/loss below (new split)\n"
      ],
      "metadata": {
        "id": "ruTV3prnmkRG"
      },
      "execution_count": null,
      "outputs": []
    },
    {
      "cell_type": "code",
      "source": [
        "#using NN= NN.fit makes this a history obj for plotting acc/loss below (old split)\n",
        "NN2 = NN.fit(train_set, validation_data=test_set, epochs=50, verbose=1)"
      ],
      "metadata": {
        "colab": {
          "base_uri": "https://localhost:8080/"
        },
        "id": "KUHIfB7rMMDG",
        "outputId": "b8305116-edb8-4ca2-867f-5697892271e7"
      },
      "execution_count": 15,
      "outputs": [
        {
          "output_type": "stream",
          "name": "stdout",
          "text": [
            "Epoch 1/50\n",
            "282/282 [==============================] - 163s 578ms/step - loss: 1.9981 - accuracy: 0.2608 - val_loss: 1.8294 - val_accuracy: 0.3326\n",
            "Epoch 2/50\n",
            "282/282 [==============================] - 142s 503ms/step - loss: 1.5828 - accuracy: 0.4141 - val_loss: 1.6154 - val_accuracy: 0.4326\n",
            "Epoch 3/50\n",
            "282/282 [==============================] - 131s 464ms/step - loss: 1.4245 - accuracy: 0.4809 - val_loss: 1.5357 - val_accuracy: 0.4256\n",
            "Epoch 4/50\n",
            "282/282 [==============================] - 132s 469ms/step - loss: 1.3342 - accuracy: 0.5214 - val_loss: 1.8353 - val_accuracy: 0.3419\n",
            "Epoch 5/50\n",
            "282/282 [==============================] - 130s 460ms/step - loss: 1.2653 - accuracy: 0.5413 - val_loss: 1.8757 - val_accuracy: 0.4093\n",
            "Epoch 6/50\n",
            "282/282 [==============================] - 130s 462ms/step - loss: 1.1922 - accuracy: 0.5678 - val_loss: 1.7697 - val_accuracy: 0.4721\n",
            "Epoch 7/50\n",
            "282/282 [==============================] - 131s 466ms/step - loss: 1.1382 - accuracy: 0.5876 - val_loss: 2.0895 - val_accuracy: 0.3721\n",
            "Epoch 8/50\n",
            "282/282 [==============================] - 131s 466ms/step - loss: 1.0778 - accuracy: 0.5925 - val_loss: 2.3596 - val_accuracy: 0.3837\n",
            "Epoch 9/50\n",
            "282/282 [==============================] - 129s 458ms/step - loss: 1.0391 - accuracy: 0.6069 - val_loss: 1.8298 - val_accuracy: 0.4953\n",
            "Epoch 10/50\n",
            "282/282 [==============================] - 130s 463ms/step - loss: 0.9725 - accuracy: 0.6230 - val_loss: 1.8108 - val_accuracy: 0.5302\n",
            "Epoch 11/50\n",
            "282/282 [==============================] - 129s 459ms/step - loss: 0.9235 - accuracy: 0.6472 - val_loss: 1.7570 - val_accuracy: 0.5209\n",
            "Epoch 12/50\n",
            "282/282 [==============================] - 130s 461ms/step - loss: 0.8649 - accuracy: 0.6657 - val_loss: 1.4684 - val_accuracy: 0.5395\n",
            "Epoch 13/50\n",
            "282/282 [==============================] - 130s 463ms/step - loss: 0.8161 - accuracy: 0.6821 - val_loss: 1.3880 - val_accuracy: 0.5953\n",
            "Epoch 14/50\n",
            "282/282 [==============================] - 129s 459ms/step - loss: 0.7655 - accuracy: 0.7074 - val_loss: 1.5882 - val_accuracy: 0.5256\n",
            "Epoch 15/50\n",
            "282/282 [==============================] - 131s 464ms/step - loss: 0.7264 - accuracy: 0.7201 - val_loss: 1.4792 - val_accuracy: 0.5465\n",
            "Epoch 16/50\n",
            "282/282 [==============================] - 131s 463ms/step - loss: 0.6871 - accuracy: 0.7393 - val_loss: 1.1488 - val_accuracy: 0.6233\n",
            "Epoch 17/50\n",
            "282/282 [==============================] - 129s 458ms/step - loss: 0.6417 - accuracy: 0.7568 - val_loss: 1.4714 - val_accuracy: 0.5628\n",
            "Epoch 18/50\n",
            "282/282 [==============================] - 131s 466ms/step - loss: 0.6394 - accuracy: 0.7564 - val_loss: 1.1373 - val_accuracy: 0.6372\n",
            "Epoch 19/50\n",
            "282/282 [==============================] - 132s 470ms/step - loss: 0.5965 - accuracy: 0.7774 - val_loss: 0.9673 - val_accuracy: 0.6744\n",
            "Epoch 20/50\n",
            "282/282 [==============================] - 130s 459ms/step - loss: 0.5695 - accuracy: 0.7898 - val_loss: 1.2395 - val_accuracy: 0.6070\n",
            "Epoch 21/50\n",
            "282/282 [==============================] - 131s 463ms/step - loss: 0.5357 - accuracy: 0.8030 - val_loss: 1.0968 - val_accuracy: 0.6605\n",
            "Epoch 22/50\n",
            "282/282 [==============================] - 131s 466ms/step - loss: 0.5143 - accuracy: 0.8148 - val_loss: 0.8705 - val_accuracy: 0.6605\n",
            "Epoch 23/50\n",
            "282/282 [==============================] - 130s 461ms/step - loss: 0.4971 - accuracy: 0.8184 - val_loss: 0.9328 - val_accuracy: 0.6884\n",
            "Epoch 24/50\n",
            "282/282 [==============================] - 130s 461ms/step - loss: 0.4750 - accuracy: 0.8295 - val_loss: 0.9866 - val_accuracy: 0.6814\n",
            "Epoch 25/50\n",
            "282/282 [==============================] - 132s 468ms/step - loss: 0.4421 - accuracy: 0.8394 - val_loss: 0.9253 - val_accuracy: 0.7116\n",
            "Epoch 26/50\n",
            "282/282 [==============================] - 133s 473ms/step - loss: 0.4390 - accuracy: 0.8392 - val_loss: 0.8621 - val_accuracy: 0.7023\n",
            "Epoch 27/50\n",
            "282/282 [==============================] - 134s 476ms/step - loss: 0.4104 - accuracy: 0.8529 - val_loss: 0.8809 - val_accuracy: 0.7326\n",
            "Epoch 28/50\n",
            "282/282 [==============================] - 133s 471ms/step - loss: 0.4166 - accuracy: 0.8482 - val_loss: 1.0680 - val_accuracy: 0.6744\n",
            "Epoch 29/50\n",
            "282/282 [==============================] - 131s 466ms/step - loss: 0.3748 - accuracy: 0.8678 - val_loss: 0.8060 - val_accuracy: 0.7349\n",
            "Epoch 30/50\n",
            "282/282 [==============================] - 131s 464ms/step - loss: 0.3691 - accuracy: 0.8718 - val_loss: 0.9533 - val_accuracy: 0.6953\n",
            "Epoch 31/50\n",
            "282/282 [==============================] - 129s 459ms/step - loss: 0.3533 - accuracy: 0.8765 - val_loss: 0.7582 - val_accuracy: 0.7512\n",
            "Epoch 32/50\n",
            "282/282 [==============================] - 130s 463ms/step - loss: 0.3510 - accuracy: 0.8809 - val_loss: 0.7246 - val_accuracy: 0.7488\n",
            "Epoch 33/50\n",
            "282/282 [==============================] - 131s 464ms/step - loss: 0.3391 - accuracy: 0.8831 - val_loss: 0.8962 - val_accuracy: 0.7279\n",
            "Epoch 34/50\n",
            "282/282 [==============================] - 130s 460ms/step - loss: 0.3095 - accuracy: 0.8917 - val_loss: 0.7578 - val_accuracy: 0.7326\n",
            "Epoch 35/50\n",
            "282/282 [==============================] - 132s 467ms/step - loss: 0.3085 - accuracy: 0.8907 - val_loss: 0.8735 - val_accuracy: 0.7326\n",
            "Epoch 36/50\n",
            "282/282 [==============================] - 130s 462ms/step - loss: 0.3154 - accuracy: 0.8909 - val_loss: 0.6127 - val_accuracy: 0.7814\n",
            "Epoch 37/50\n",
            "282/282 [==============================] - 130s 462ms/step - loss: 0.3041 - accuracy: 0.8929 - val_loss: 0.7949 - val_accuracy: 0.7558\n",
            "Epoch 38/50\n",
            "282/282 [==============================] - 131s 464ms/step - loss: 0.3079 - accuracy: 0.8919 - val_loss: 0.7845 - val_accuracy: 0.7512\n",
            "Epoch 39/50\n",
            "282/282 [==============================] - 132s 468ms/step - loss: 0.2680 - accuracy: 0.9074 - val_loss: 0.6829 - val_accuracy: 0.7535\n",
            "Epoch 40/50\n",
            "282/282 [==============================] - 131s 464ms/step - loss: 0.2775 - accuracy: 0.9052 - val_loss: 0.7185 - val_accuracy: 0.7698\n",
            "Epoch 41/50\n",
            "282/282 [==============================] - 131s 465ms/step - loss: 0.2559 - accuracy: 0.9147 - val_loss: 0.7177 - val_accuracy: 0.7581\n",
            "Epoch 42/50\n",
            "282/282 [==============================] - 130s 461ms/step - loss: 0.2752 - accuracy: 0.9014 - val_loss: 0.6721 - val_accuracy: 0.7884\n",
            "Epoch 43/50\n",
            "282/282 [==============================] - 131s 466ms/step - loss: 0.2583 - accuracy: 0.9074 - val_loss: 0.6534 - val_accuracy: 0.8000\n",
            "Epoch 44/50\n",
            "282/282 [==============================] - 132s 469ms/step - loss: 0.2325 - accuracy: 0.9200 - val_loss: 0.6535 - val_accuracy: 0.7860\n",
            "Epoch 45/50\n",
            "282/282 [==============================] - 132s 470ms/step - loss: 0.2448 - accuracy: 0.9147 - val_loss: 0.8748 - val_accuracy: 0.7791\n",
            "Epoch 46/50\n",
            "282/282 [==============================] - 131s 463ms/step - loss: 0.2261 - accuracy: 0.9216 - val_loss: 0.7870 - val_accuracy: 0.7814\n",
            "Epoch 47/50\n",
            "282/282 [==============================] - 131s 465ms/step - loss: 0.2448 - accuracy: 0.9125 - val_loss: 0.6658 - val_accuracy: 0.7907\n",
            "Epoch 48/50\n",
            "282/282 [==============================] - 132s 467ms/step - loss: 0.2057 - accuracy: 0.9319 - val_loss: 0.7650 - val_accuracy: 0.7837\n",
            "Epoch 49/50\n",
            "282/282 [==============================] - 132s 468ms/step - loss: 0.2225 - accuracy: 0.9261 - val_loss: 0.6845 - val_accuracy: 0.7953\n",
            "Epoch 50/50\n",
            "282/282 [==============================] - 130s 461ms/step - loss: 0.1932 - accuracy: 0.9390 - val_loss: 0.6561 - val_accuracy: 0.7977\n"
          ]
        }
      ]
    },
    {
      "cell_type": "code",
      "source": [],
      "metadata": {
        "id": "PX5XOcnFBVXg"
      },
      "execution_count": null,
      "outputs": []
    },
    {
      "cell_type": "code",
      "source": [
        "#only works if NN/NN2 is a history object\n",
        "\n",
        "#plotting loss and acc\n",
        "\n",
        "plt.plot(NN2.history['loss'], label='train loss')\n",
        "plt.plot(NN2.history['val_loss'], label='val loss')\n",
        "plt.xlabel('number of epochs')\n",
        "plt.ylabel('Loss')\n",
        "plt.legend()\n",
        "plt.savefig('NN_LossVal_loss_old_split')\n",
        "plt.show()\n",
        "\n",
        "\n",
        "# plot the accuracy\n",
        "plt.plot(NN2.history['accuracy'], label='train acc')\n",
        "plt.plot(NN2.history['val_accuracy'], label='val acc')\n",
        "plt.xlabel('number of epochs')\n",
        "plt.ylabel('Accuracy')\n",
        "plt.legend()\n",
        "plt.savefig('NN_AccVal_acc_old_split')\n",
        "plt.show()\n",
        "\n",
        "\n"
      ],
      "metadata": {
        "id": "QP7X-zk97iMa",
        "colab": {
          "base_uri": "https://localhost:8080/",
          "height": 553
        },
        "outputId": "9a82010b-f03c-4384-b94f-d1cc81d46f2b"
      },
      "execution_count": 17,
      "outputs": [
        {
          "output_type": "display_data",
          "data": {
            "text/plain": [
              "<Figure size 432x288 with 1 Axes>"
            ],
            "image/png": "[encoded data removed]"
          },
          "metadata": {}
        },
        {
          "output_type": "display_data",
          "data": {
            "text/plain": [
              "<Figure size 432x288 with 1 Axes>"
            ],
            "image/png": "[encoded data removed]"
          },
          "metadata": {}
        }
      ]
    },
    {
      "cell_type": "code",
      "source": [
        "#trying to plot a confusion matrix only works if NN/NN2 is not a history obj\n",
        "\n",
        "from sklearn.metrics import confusion_matrix\n",
        "import itertools\n",
        "from sklearn.metrics import ConfusionMatrixDisplay\n",
        "\n",
        "#model_variable = r2_new_split\n",
        "\n",
        "#predictions = r2_new_split.predict(test_set2)\n",
        "#predictions\n",
        "\n",
        "num_of_test_samples = 1830\n",
        "batch_size = 30\n",
        "\n",
        "Y_pred = NN.predict(test_set2, num_of_test_samples // batch_size+1)\n",
        "y_pred = np.argmax(Y_pred, axis=1)\n",
        "\n",
        "\n",
        "cm = confusion_matrix(y_true = test_set2.classes, y_pred=y_pred, labels=test_set2.classes)\n",
        "\n",
        "\n",
        "\n",
        "\n",
        "disp = ConfusionMatrixDisplay.from_predictions(test_set2.classes, y_pred)\n",
        "\n",
        "#disp.plot()\n",
        "\n",
        "plt.show()"
      ],
      "metadata": {
        "id": "FZS-BzyW7iO6"
      },
      "execution_count": null,
      "outputs": []
    },
    {
      "cell_type": "code",
      "source": [],
      "metadata": {
        "id": "Xwg4Cqyo7iRX"
      },
      "execution_count": null,
      "outputs": []
    },
    {
      "cell_type": "code",
      "source": [],
      "metadata": {
        "id": "lOBZS3eZ7iUF"
      },
      "execution_count": null,
      "outputs": []
    },
    {
      "cell_type": "code",
      "source": [],
      "metadata": {
        "id": "HoyZaui07iWY"
      },
      "execution_count": null,
      "outputs": []
    }
  ]
}