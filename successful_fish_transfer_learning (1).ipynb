{
  "nbformat": 4,
  "nbformat_minor": 0,
  "metadata": {
    "colab": {
      "provenance": [],
      "collapsed_sections": [],
      "machine_shape": "hm"
    },
    "kernelspec": {
      "name": "python3",
      "display_name": "Python 3"
    },
    "language_info": {
      "name": "python"
    },
    "gpuClass": "standard",
    "accelerator": "GPU"
  },
  "cells": [
    {
      "cell_type": "code",
      "execution_count": 46,
      "metadata": {
        "colab": {
          "base_uri": "https://localhost:8080/"
        },
        "id": "9PkvQ8G1yN7g",
        "outputId": "60cd7f56-41f5-451a-f837-59ef0be50d06"
      },
      "outputs": [
        {
          "output_type": "stream",
          "name": "stdout",
          "text": [
            "Drive already mounted at /content/gdrive; to attempt to forcibly remount, call drive.mount(\"/content/gdrive\", force_remount=True).\n",
            "Populating the interactive namespace from numpy and matplotlib\n"
          ]
        },
        {
          "output_type": "stream",
          "name": "stderr",
          "text": [
            "/usr/local/lib/python3.7/dist-packages/IPython/core/magics/pylab.py:160: UserWarning: pylab import has clobbered these variables: ['cm', 'disp', 'plt']\n",
            "`%matplotlib` prevents importing * from pylab and numpy\n",
            "  \"\\n`%matplotlib` prevents importing * from pylab and numpy\"\n"
          ]
        }
      ],
      "source": [
        "#cleaner imports\n",
        "\n",
        "#importing folders from my drive and unzipping\n",
        "from google.colab import drive\n",
        "drive.mount('/content/gdrive')\n",
        "#!unzip /content/gdrive/MyDrive/fish_data.zip\n",
        "\n",
        "#python libraries import\n",
        "import pandas as pd\n",
        "%pylab inline \n",
        "import seaborn as sns\n",
        "sns.set()\n",
        "\n",
        "#sklearn libraries\n",
        "import sklearn\n",
        "from sklearn.metrics import accuracy_score\n",
        "from sklearn.preprocessing import StandardScaler\n",
        "from sklearn.decomposition import PCA\n",
        "from sklearn.feature_extraction.text import TfidfVectorizer\n",
        "from sklearn.model_selection import train_test_split\n",
        "from sklearn.linear_model import LogisticRegression\n",
        "from sklearn.naive_bayes import MultinomialNB\n",
        "from sklearn.cluster import KMeans\n",
        "\n",
        "#other libraries\n",
        "from gensim.models.keyedvectors import KeyedVectors\n",
        "from os import listdir\n",
        "from os.path import isfile, join\n",
        "import os\n",
        "import skimage\n",
        "from skimage import io\n",
        "from IPython.display import SVG\n",
        "\n",
        "# keras imports\n",
        "import tensorflow as tf\n",
        "from tensorflow.keras.utils import model_to_dot\n",
        "from tensorflow.keras.preprocessing.text import Tokenizer\n",
        "from tensorflow.keras.preprocessing.sequence import pad_sequences\n",
        "from tensorflow.keras.models import Model, Sequential\n",
        "from tensorflow.keras.layers import Dense, Activation, Dropout, Lambda\n",
        "from tensorflow.keras.layers import Input, Embedding, Bidirectional, LSTM\n",
        "from tensorflow.keras.preprocessing.image import ImageDataGenerator\n",
        "from tensorflow.keras.preprocessing.image import load_img, img_to_array\n",
        "from tensorflow.keras.layers import Conv2D, MaxPooling2D\n",
        "from tensorflow.keras.layers import Flatten\n",
        "from tensorflow.keras import backend as K\n",
        "from tensorflow.keras.models import load_model\n",
        "from tensorflow.keras.preprocessing import image\n",
        "from tensorflow.keras.optimizers import RMSprop\n",
        "from tensorflow.keras.utils import to_categorical\n",
        "from tensorflow.keras import optimizers\n",
        "from keras.preprocessing.image import array_to_img\n",
        "from tensorflow.keras.applications.inception_v3 import InceptionV3\n",
        "from tensorflow.keras.applications.inception_v3 import preprocess_input\n",
        "\n",
        "#flattening libraries\n",
        "import numpy as np\n",
        "import cv2 as cv\n",
        "from google.colab.patches import cv2_imshow\n",
        "from PIL import Image\n",
        "import matplotlib.pylab as plt\n",
        "from numpy import array\n",
        "from sys import getsizeof\n",
        "import warnings\n",
        "import PIL"
      ]
    },
    {
      "cell_type": "code",
      "source": [],
      "metadata": {
        "id": "NVpgcHPtbwQz"
      },
      "execution_count": null,
      "outputs": []
    },
    {
      "cell_type": "code",
      "source": [
        "#videos code: https://www.youtube.com/watch?v=chQNuV9B-Rw&ab_channel=KrishNaik\n",
        "from glob import glob\n",
        "\n",
        "img_size = [224,224]\n",
        "img_height = 224\n",
        "img_width = 224\n",
        "\n",
        "train_path = '/content/gdrive/MyDrive/fish_train_val'\n",
        "\n",
        "test_path = '/content/gdrive/MyDrive/fish_50_each'\n",
        "\n",
        "folders = glob('/content/gdrive/MyDrive/fish_train_val')"
      ],
      "metadata": {
        "id": "r3N3WgXrb7jj"
      },
      "execution_count": 48,
      "outputs": []
    },
    {
      "cell_type": "code",
      "source": [
        "#import inception NN\n",
        "inception = InceptionV3(input_shape=img_size + [3], weights='imagenet',include_top=False)\n",
        "\n",
        "#not training existing weights\n",
        "for layer in inception.layers:\n",
        "    layer.trainable = False"
      ],
      "metadata": {
        "id": "m1Q2rbuFd22P"
      },
      "execution_count": 49,
      "outputs": []
    },
    {
      "cell_type": "code",
      "source": [
        "#import VGG-16 NN\n",
        "\n",
        "from tensorflow.keras.applications.vgg16 import VGG16\n",
        "\n",
        "vgg_model = VGG16(input_shape=img_size + [3],weights='imagenet' , include_top = False)\n",
        "\n",
        "#not training existing weights\n",
        "for layer in vgg_model.layers:\n",
        "  layer.trainable = False"
      ],
      "metadata": {
        "id": "RkO67O18cnq8"
      },
      "execution_count": 50,
      "outputs": []
    },
    {
      "cell_type": "code",
      "source": [
        "vgg_model.summary()"
      ],
      "metadata": {
        "colab": {
          "base_uri": "https://localhost:8080/"
        },
        "id": "6CrH2HKLjBmV",
        "outputId": "78bdcffc-1f0f-427e-8ba2-5c49c0cb36d9"
      },
      "execution_count": 51,
      "outputs": [
        {
          "output_type": "stream",
          "name": "stdout",
          "text": [
            "Model: \"vgg16\"\n",
            "_________________________________________________________________\n",
            " Layer (type)                Output Shape              Param #   \n",
            "=================================================================\n",
            " input_4 (InputLayer)        [(None, 224, 224, 3)]     0         \n",
            "                                                                 \n",
            " block1_conv1 (Conv2D)       (None, 224, 224, 64)      1792      \n",
            "                                                                 \n",
            " block1_conv2 (Conv2D)       (None, 224, 224, 64)      36928     \n",
            "                                                                 \n",
            " block1_pool (MaxPooling2D)  (None, 112, 112, 64)      0         \n",
            "                                                                 \n",
            " block2_conv1 (Conv2D)       (None, 112, 112, 128)     73856     \n",
            "                                                                 \n",
            " block2_conv2 (Conv2D)       (None, 112, 112, 128)     147584    \n",
            "                                                                 \n",
            " block2_pool (MaxPooling2D)  (None, 56, 56, 128)       0         \n",
            "                                                                 \n",
            " block3_conv1 (Conv2D)       (None, 56, 56, 256)       295168    \n",
            "                                                                 \n",
            " block3_conv2 (Conv2D)       (None, 56, 56, 256)       590080    \n",
            "                                                                 \n",
            " block3_conv3 (Conv2D)       (None, 56, 56, 256)       590080    \n",
            "                                                                 \n",
            " block3_pool (MaxPooling2D)  (None, 28, 28, 256)       0         \n",
            "                                                                 \n",
            " block4_conv1 (Conv2D)       (None, 28, 28, 512)       1180160   \n",
            "                                                                 \n",
            " block4_conv2 (Conv2D)       (None, 28, 28, 512)       2359808   \n",
            "                                                                 \n",
            " block4_conv3 (Conv2D)       (None, 28, 28, 512)       2359808   \n",
            "                                                                 \n",
            " block4_pool (MaxPooling2D)  (None, 14, 14, 512)       0         \n",
            "                                                                 \n",
            " block5_conv1 (Conv2D)       (None, 14, 14, 512)       2359808   \n",
            "                                                                 \n",
            " block5_conv2 (Conv2D)       (None, 14, 14, 512)       2359808   \n",
            "                                                                 \n",
            " block5_conv3 (Conv2D)       (None, 14, 14, 512)       2359808   \n",
            "                                                                 \n",
            " block5_pool (MaxPooling2D)  (None, 7, 7, 512)         0         \n",
            "                                                                 \n",
            "=================================================================\n",
            "Total params: 14,714,688\n",
            "Trainable params: 0\n",
            "Non-trainable params: 14,714,688\n",
            "_________________________________________________________________\n"
          ]
        }
      ]
    },
    {
      "cell_type": "code",
      "source": [],
      "metadata": {
        "id": "o-varpCz8unq"
      },
      "execution_count": 52,
      "outputs": []
    },
    {
      "cell_type": "code",
      "source": [
        "#my layers for VGG16 model\n",
        "from tensorflow.keras.layers import BatchNormalization\n",
        "\n",
        "x2 = Flatten()(vgg_model.output)\n",
        "\n",
        "#put more layers\n",
        "\n",
        "next_layer = Dense(4096, activation='relu')(x2)\n",
        "next_layer2 = Dense(4096, activation='relu')(next_layer)\n",
        "#then prediction layer change (x2) to (next_layer2)\n",
        "\n",
        "#x2 = vgg_model.layers[-2].output\n",
        "\n",
        "prediction2 = Dense(9, activation='softmax')(next_layer2)\n",
        "\n",
        "\n",
        "\n",
        "model2 = Model(inputs=vgg_model.input, outputs=prediction2)\n",
        "\n",
        "model2.save('model2')\n"
      ],
      "metadata": {
        "colab": {
          "base_uri": "https://localhost:8080/"
        },
        "id": "XXySk4gAiXIo",
        "outputId": "25ff8417-d75f-40a0-fe88-a928e9307936"
      },
      "execution_count": 53,
      "outputs": [
        {
          "output_type": "stream",
          "name": "stderr",
          "text": [
            "WARNING:tensorflow:Compiled the loaded model, but the compiled metrics have yet to be built. `model.compile_metrics` will be empty until you train or evaluate the model.\n"
          ]
        }
      ]
    },
    {
      "cell_type": "code",
      "source": [
        "#my layers for VGG16 model with Dense layers after, dropout layers, bacth normalization layers\n",
        "from tensorflow.keras.layers import BatchNormalization\n",
        "\n",
        "x2 = Flatten()(vgg_model.output)\n",
        "\n",
        "#put more layers\n",
        "\n",
        "next_layer = Dense(4096, activation='relu')(x2)\n",
        "\n",
        "next_layer2 = Dropout(.5)(next_layer)\n",
        "\n",
        "next_layer3 = Dense(4096, activation='relu')(next_layer2)\n",
        "\n",
        "next_layer4 = BatchNormalization()(next_layer3)\n",
        "\n",
        "prediction2 = Dense(9, activation='softmax')(next_layer4)\n",
        "\n",
        "\n",
        "\n",
        "model2 = Model(inputs=vgg_model.input, outputs=prediction2)\n",
        "\n",
        "model2.save('model2')\n"
      ],
      "metadata": {
        "colab": {
          "base_uri": "https://localhost:8080/"
        },
        "id": "bJlC_r2H4fL-",
        "outputId": "6520853f-63fe-4829-f6e7-4da372539ac7"
      },
      "execution_count": 54,
      "outputs": [
        {
          "output_type": "stream",
          "name": "stderr",
          "text": [
            "WARNING:tensorflow:Compiled the loaded model, but the compiled metrics have yet to be built. `model.compile_metrics` will be empty until you train or evaluate the model.\n"
          ]
        }
      ]
    },
    {
      "cell_type": "code",
      "source": [],
      "metadata": {
        "colab": {
          "base_uri": "https://localhost:8080/",
          "height": 71
        },
        "id": "glKk_jCOYJkn",
        "outputId": "63d0ae01-a6d1-4fa3-ba4f-90296610bda8"
      },
      "execution_count": 55,
      "outputs": [
        {
          "output_type": "execute_result",
          "data": {
            "text/plain": [
              "\"\\n\\n#new layers\\n#normalizing_layer = BatchNormalization()(x2)\\n\\nprev_model = load_model('model2')\\n\\nnew_model2 = Sequential()\\nnew_model2.add(prev_model)\\nnew_model2.add(BatchNormalization())\\n\""
            ],
            "application/vnd.google.colaboratory.intrinsic+json": {
              "type": "string"
            }
          },
          "metadata": {},
          "execution_count": 55
        }
      ]
    },
    {
      "cell_type": "code",
      "source": [
        "model2.summary()\n"
      ],
      "metadata": {
        "colab": {
          "base_uri": "https://localhost:8080/"
        },
        "id": "6lNrcxrIV0uH",
        "outputId": "4e6a818c-f992-4700-c6cd-2af8b473fb6f"
      },
      "execution_count": 56,
      "outputs": [
        {
          "output_type": "stream",
          "name": "stdout",
          "text": [
            "Model: \"model_5\"\n",
            "_________________________________________________________________\n",
            " Layer (type)                Output Shape              Param #   \n",
            "=================================================================\n",
            " input_4 (InputLayer)        [(None, 224, 224, 3)]     0         \n",
            "                                                                 \n",
            " block1_conv1 (Conv2D)       (None, 224, 224, 64)      1792      \n",
            "                                                                 \n",
            " block1_conv2 (Conv2D)       (None, 224, 224, 64)      36928     \n",
            "                                                                 \n",
            " block1_pool (MaxPooling2D)  (None, 112, 112, 64)      0         \n",
            "                                                                 \n",
            " block2_conv1 (Conv2D)       (None, 112, 112, 128)     73856     \n",
            "                                                                 \n",
            " block2_conv2 (Conv2D)       (None, 112, 112, 128)     147584    \n",
            "                                                                 \n",
            " block2_pool (MaxPooling2D)  (None, 56, 56, 128)       0         \n",
            "                                                                 \n",
            " block3_conv1 (Conv2D)       (None, 56, 56, 256)       295168    \n",
            "                                                                 \n",
            " block3_conv2 (Conv2D)       (None, 56, 56, 256)       590080    \n",
            "                                                                 \n",
            " block3_conv3 (Conv2D)       (None, 56, 56, 256)       590080    \n",
            "                                                                 \n",
            " block3_pool (MaxPooling2D)  (None, 28, 28, 256)       0         \n",
            "                                                                 \n",
            " block4_conv1 (Conv2D)       (None, 28, 28, 512)       1180160   \n",
            "                                                                 \n",
            " block4_conv2 (Conv2D)       (None, 28, 28, 512)       2359808   \n",
            "                                                                 \n",
            " block4_conv3 (Conv2D)       (None, 28, 28, 512)       2359808   \n",
            "                                                                 \n",
            " block4_pool (MaxPooling2D)  (None, 14, 14, 512)       0         \n",
            "                                                                 \n",
            " block5_conv1 (Conv2D)       (None, 14, 14, 512)       2359808   \n",
            "                                                                 \n",
            " block5_conv2 (Conv2D)       (None, 14, 14, 512)       2359808   \n",
            "                                                                 \n",
            " block5_conv3 (Conv2D)       (None, 14, 14, 512)       2359808   \n",
            "                                                                 \n",
            " block5_pool (MaxPooling2D)  (None, 7, 7, 512)         0         \n",
            "                                                                 \n",
            " flatten_5 (Flatten)         (None, 25088)             0         \n",
            "                                                                 \n",
            " dense_11 (Dense)            (None, 4096)              102764544 \n",
            "                                                                 \n",
            " dropout_1 (Dropout)         (None, 4096)              0         \n",
            "                                                                 \n",
            " dense_12 (Dense)            (None, 4096)              16781312  \n",
            "                                                                 \n",
            " batch_normalization_189 (Ba  (None, 4096)             16384     \n",
            " tchNormalization)                                               \n",
            "                                                                 \n",
            " dense_13 (Dense)            (None, 9)                 36873     \n",
            "                                                                 \n",
            "=================================================================\n",
            "Total params: 134,313,801\n",
            "Trainable params: 119,590,921\n",
            "Non-trainable params: 14,722,880\n",
            "_________________________________________________________________\n"
          ]
        }
      ]
    },
    {
      "cell_type": "code",
      "source": [],
      "metadata": {
        "colab": {
          "base_uri": "https://localhost:8080/",
          "height": 35
        },
        "id": "PgTN7hpIY2rV",
        "outputId": "e8f16337-1f5c-44f5-baa9-4a6e84791d8f"
      },
      "execution_count": 57,
      "outputs": [
        {
          "output_type": "execute_result",
          "data": {
            "text/plain": [
              "'\\nnew_model2.summary()\\n'"
            ],
            "application/vnd.google.colaboratory.intrinsic+json": {
              "type": "string"
            }
          },
          "metadata": {},
          "execution_count": 57
        }
      ]
    },
    {
      "cell_type": "code",
      "source": [],
      "metadata": {
        "id": "Zn7ePsC08vB1"
      },
      "execution_count": 58,
      "outputs": []
    },
    {
      "cell_type": "code",
      "source": [
        "#compiling vgg model\n",
        "model2.compile(loss='categorical_crossentropy',\n",
        "              optimizer='adam',\n",
        "              metrics=['accuracy']\n",
        "             )"
      ],
      "metadata": {
        "id": "RsrNOjxTi3h2"
      },
      "execution_count": 59,
      "outputs": []
    },
    {
      "cell_type": "code",
      "source": [
        "model2.summary()"
      ],
      "metadata": {
        "id": "lIeNjNyoV_qk"
      },
      "execution_count": null,
      "outputs": []
    },
    {
      "cell_type": "code",
      "source": [
        "#using imagedatagenerator\n",
        "\n",
        "datagen = ImageDataGenerator(rescale = 1/255,\n",
        "                             shear_range=.2,\n",
        "                             zoom_range=.2\n",
        "                             )\n",
        "\n",
        "datagen_test = ImageDataGenerator(rescale= 1/255)"
      ],
      "metadata": {
        "id": "RQfoEA5d88Gb"
      },
      "execution_count": 61,
      "outputs": []
    },
    {
      "cell_type": "code",
      "source": [
        "#splitting data into train, val, test: train 7208, val = 1802, test = 430 ... with original split\n",
        "\n",
        "train_set = datagen.flow_from_directory(\n",
        "    '/content/gdrive/MyDrive/fish_train_val',\n",
        "    target_size = (224,224),\n",
        "    batch_size = 32,\n",
        "    class_mode = 'categorical')\n",
        "\n",
        "\n",
        "\n",
        "test_set = datagen_test.flow_from_directory(\n",
        "    '/content/gdrive/MyDrive/fish_50_each',\n",
        "    target_size = (224,224),\n",
        "    batch_size=32,\n",
        "    class_mode='categorical')\n"
      ],
      "metadata": {
        "colab": {
          "base_uri": "https://localhost:8080/"
        },
        "id": "jtIHcGyB88I5",
        "outputId": "a24a8601-6408-46b1-f991-06897cb20d69"
      },
      "execution_count": 62,
      "outputs": [
        {
          "output_type": "stream",
          "name": "stdout",
          "text": [
            "Found 9010 images belonging to 9 classes.\n",
            "Found 430 images belonging to 9 classes.\n"
          ]
        }
      ]
    },
    {
      "cell_type": "code",
      "source": [
        "#splitting data into train, val, test: train 7208, val = 1802, test = 430 ... with new split\n",
        "\n",
        "train_set2 = datagen.flow_from_directory(\n",
        "    '/content/gdrive/MyDrive/fish_train_val_v2',\n",
        "    target_size = (224,224),\n",
        "    batch_size = 20,\n",
        "    #batch_size=1,\n",
        "    class_mode = 'categorical')\n",
        "\n",
        "\n",
        "\n",
        "test_set2 = datagen_test.flow_from_directory(\n",
        "    '/content/gdrive/MyDrive/fish_200_each',\n",
        "    target_size = (224,224),\n",
        "    batch_size=30,\n",
        "    #batch_size=1,\n",
        "    class_mode='categorical')"
      ],
      "metadata": {
        "colab": {
          "base_uri": "https://localhost:8080/"
        },
        "id": "DlJQMhGUbh8j",
        "outputId": "2036d942-3427-47d1-8f72-1bd154a1a5cc"
      },
      "execution_count": 63,
      "outputs": [
        {
          "output_type": "stream",
          "name": "stdout",
          "text": [
            "Found 7600 images belonging to 9 classes.\n",
            "Found 1830 images belonging to 9 classes.\n"
          ]
        }
      ]
    },
    {
      "cell_type": "code",
      "source": [],
      "metadata": {
        "id": "ymzMYG4mQIpg"
      },
      "execution_count": 63,
      "outputs": []
    },
    {
      "cell_type": "code",
      "source": [],
      "metadata": {
        "colab": {
          "base_uri": "https://localhost:8080/",
          "height": 89
        },
        "id": "A5mej72m88K_",
        "outputId": "f251866c-20c1-4408-f4d2-5b869ca8fd0e"
      },
      "execution_count": 64,
      "outputs": [
        {
          "output_type": "execute_result",
          "data": {
            "text/plain": [
              "'\\n#inception model fit\\nr = model.fit_generator(train_set, \\n                        validation_data=test_set,\\n                        epochs=10,\\n                        steps_per_epoch=len(train_set),\\n                        validation_steps=len(test_set)\\n                        )\\n\\n                        '"
            ],
            "application/vnd.google.colaboratory.intrinsic+json": {
              "type": "string"
            }
          },
          "metadata": {},
          "execution_count": 64
        }
      ]
    },
    {
      "cell_type": "code",
      "source": [
        "\n",
        "#vgg model fit with early stopping\n",
        "from tensorflow.keras.callbacks import ModelCheckpoint, EarlyStopping\n",
        "\n",
        "checkpoint = ModelCheckpoint(\"model2\", monitor='val_acc', verbose=1,\n",
        "                             save_best_only=True, save_weights_only=False, mode='auto',\n",
        "                             period=1)\n",
        "#change patience to 3 or 2\n",
        "early = EarlyStopping(monitor='val_accuracy', min_delta=0, patience=3, verbose=1, mode='auto')\n",
        "\n",
        "\n",
        "                          "
      ],
      "metadata": {
        "colab": {
          "base_uri": "https://localhost:8080/"
        },
        "id": "z1M9lEy9j8Ag",
        "outputId": "44f98a11-5e95-4cca-cbc8-e39ecf3e3e35"
      },
      "execution_count": 65,
      "outputs": [
        {
          "output_type": "stream",
          "name": "stderr",
          "text": [
            "WARNING:tensorflow:`period` argument is deprecated. Please use `save_freq` to specify the frequency in number of batches seen.\n"
          ]
        }
      ]
    },
    {
      "cell_type": "code",
      "source": [
        "r2 = model2.fit_generator(train_set, \n",
        "                          validation_data=test_set,\n",
        "                          epochs=20,\n",
        "                          steps_per_epoch=len(train_set),\n",
        "                          validation_steps=len(test_set),\n",
        "                          #callbacks=[early]\n",
        "                          )\n",
        "\n",
        "#Epoch 15/20\n",
        "#282/282 [==============================] - 197s 699ms/step - loss: 0.1123 - accuracy: 0.9655 - val_loss: 1.4711 - val_accuracy: 0.7767"
      ],
      "metadata": {
        "id": "unBNqHOIc1W1",
        "colab": {
          "base_uri": "https://localhost:8080/"
        },
        "outputId": "aa7a4401-2928-4b62-b46e-4e381f421892"
      },
      "execution_count": 66,
      "outputs": [
        {
          "output_type": "stream",
          "name": "stderr",
          "text": [
            "/usr/local/lib/python3.7/dist-packages/ipykernel_launcher.py:5: UserWarning: `Model.fit_generator` is deprecated and will be removed in a future version. Please use `Model.fit`, which supports generators.\n",
            "  \"\"\"\n"
          ]
        },
        {
          "output_type": "stream",
          "name": "stdout",
          "text": [
            "Epoch 1/20\n",
            "282/282 [==============================] - 194s 684ms/step - loss: 1.3113 - accuracy: 0.7031 - val_loss: 2.3665 - val_accuracy: 0.5651\n",
            "Epoch 2/20\n",
            "282/282 [==============================] - 189s 668ms/step - loss: 0.3253 - accuracy: 0.8942 - val_loss: 1.7010 - val_accuracy: 0.6395\n",
            "Epoch 3/20\n",
            "282/282 [==============================] - 186s 660ms/step - loss: 0.2535 - accuracy: 0.9196 - val_loss: 2.8711 - val_accuracy: 0.5326\n",
            "Epoch 4/20\n",
            "282/282 [==============================] - 185s 656ms/step - loss: 0.2427 - accuracy: 0.9250 - val_loss: 3.3846 - val_accuracy: 0.5140\n",
            "Epoch 5/20\n",
            "282/282 [==============================] - 187s 664ms/step - loss: 0.1970 - accuracy: 0.9396 - val_loss: 2.0477 - val_accuracy: 0.6279\n",
            "Epoch 6/20\n",
            "282/282 [==============================] - 200s 710ms/step - loss: 0.2158 - accuracy: 0.9370 - val_loss: 1.5141 - val_accuracy: 0.7000\n",
            "Epoch 7/20\n",
            "282/282 [==============================] - 191s 678ms/step - loss: 0.1732 - accuracy: 0.9486 - val_loss: 0.9237 - val_accuracy: 0.8140\n",
            "Epoch 8/20\n",
            "282/282 [==============================] - 191s 677ms/step - loss: 0.1556 - accuracy: 0.9555 - val_loss: 2.1480 - val_accuracy: 0.6372\n",
            "Epoch 9/20\n",
            "282/282 [==============================] - 211s 748ms/step - loss: 0.1586 - accuracy: 0.9524 - val_loss: 0.9548 - val_accuracy: 0.7977\n",
            "Epoch 10/20\n",
            "282/282 [==============================] - 237s 839ms/step - loss: 0.1474 - accuracy: 0.9578 - val_loss: 2.2297 - val_accuracy: 0.6581\n",
            "Epoch 11/20\n",
            "282/282 [==============================] - 227s 805ms/step - loss: 0.1164 - accuracy: 0.9657 - val_loss: 1.0990 - val_accuracy: 0.8140\n",
            "Epoch 12/20\n",
            "282/282 [==============================] - 212s 753ms/step - loss: 0.1144 - accuracy: 0.9667 - val_loss: 1.8122 - val_accuracy: 0.7070\n",
            "Epoch 13/20\n",
            "282/282 [==============================] - 214s 758ms/step - loss: 0.1056 - accuracy: 0.9695 - val_loss: 1.7106 - val_accuracy: 0.7814\n",
            "Epoch 14/20\n",
            "282/282 [==============================] - 213s 757ms/step - loss: 0.1090 - accuracy: 0.9680 - val_loss: 2.7510 - val_accuracy: 0.6512\n",
            "Epoch 15/20\n",
            "282/282 [==============================] - 212s 753ms/step - loss: 0.0887 - accuracy: 0.9755 - val_loss: 2.1016 - val_accuracy: 0.7442\n",
            "Epoch 16/20\n",
            "282/282 [==============================] - 212s 752ms/step - loss: 0.1001 - accuracy: 0.9730 - val_loss: 1.8554 - val_accuracy: 0.7349\n",
            "Epoch 17/20\n",
            "282/282 [==============================] - 208s 738ms/step - loss: 0.0882 - accuracy: 0.9744 - val_loss: 2.2504 - val_accuracy: 0.7326\n",
            "Epoch 18/20\n",
            "282/282 [==============================] - 214s 758ms/step - loss: 0.1115 - accuracy: 0.9684 - val_loss: 1.9317 - val_accuracy: 0.6977\n",
            "Epoch 19/20\n",
            "282/282 [==============================] - 233s 827ms/step - loss: 0.0870 - accuracy: 0.9743 - val_loss: 1.8812 - val_accuracy: 0.7093\n",
            "Epoch 20/20\n",
            "282/282 [==============================] - 234s 829ms/step - loss: 0.0694 - accuracy: 0.9800 - val_loss: 1.8887 - val_accuracy: 0.7302\n"
          ]
        }
      ]
    },
    {
      "cell_type": "code",
      "source": [
        "#for the graphs, so this is a history object\n",
        "r2_for_plots = model2.fit_generator(train_set2, \n",
        "                          validation_data=test_set2,\n",
        "                          epochs=20,\n",
        "                          steps_per_epoch=len(train_set2),\n",
        "                          validation_steps=len(test_set2),\n",
        "                          #callbacks=[early]\n",
        "                          )\n"
      ],
      "metadata": {
        "colab": {
          "base_uri": "https://localhost:8080/"
        },
        "id": "wQZ-fzeS3DZP",
        "outputId": "6d24b46a-d33a-481d-e422-d7e8f56cc87a"
      },
      "execution_count": 67,
      "outputs": [
        {
          "output_type": "stream",
          "name": "stderr",
          "text": [
            "/usr/local/lib/python3.7/dist-packages/ipykernel_launcher.py:6: UserWarning: `Model.fit_generator` is deprecated and will be removed in a future version. Please use `Model.fit`, which supports generators.\n",
            "  \n"
          ]
        },
        {
          "output_type": "stream",
          "name": "stdout",
          "text": [
            "Epoch 1/20\n",
            "380/380 [==============================] - 219s 578ms/step - loss: 0.2148 - accuracy: 0.9463 - val_loss: 0.4348 - val_accuracy: 0.9251\n",
            "Epoch 2/20\n",
            "380/380 [==============================] - 219s 576ms/step - loss: 0.1473 - accuracy: 0.9611 - val_loss: 0.4693 - val_accuracy: 0.9246\n",
            "Epoch 3/20\n",
            "380/380 [==============================] - 218s 574ms/step - loss: 0.1508 - accuracy: 0.9593 - val_loss: 0.4904 - val_accuracy: 0.9115\n",
            "Epoch 4/20\n",
            "380/380 [==============================] - 217s 571ms/step - loss: 0.0891 - accuracy: 0.9754 - val_loss: 0.5291 - val_accuracy: 0.9295\n",
            "Epoch 5/20\n",
            "380/380 [==============================] - 214s 563ms/step - loss: 0.1112 - accuracy: 0.9679 - val_loss: 0.6048 - val_accuracy: 0.9158\n",
            "Epoch 6/20\n",
            "380/380 [==============================] - 214s 562ms/step - loss: 0.1290 - accuracy: 0.9625 - val_loss: 0.5244 - val_accuracy: 0.9115\n",
            "Epoch 7/20\n",
            "380/380 [==============================] - 215s 565ms/step - loss: 0.0853 - accuracy: 0.9750 - val_loss: 0.4469 - val_accuracy: 0.9251\n",
            "Epoch 8/20\n",
            "380/380 [==============================] - 216s 568ms/step - loss: 0.0761 - accuracy: 0.9766 - val_loss: 0.5326 - val_accuracy: 0.9197\n",
            "Epoch 9/20\n",
            "380/380 [==============================] - 215s 566ms/step - loss: 0.0964 - accuracy: 0.9743 - val_loss: 0.3372 - val_accuracy: 0.9268\n",
            "Epoch 10/20\n",
            "380/380 [==============================] - 215s 565ms/step - loss: 0.0707 - accuracy: 0.9807 - val_loss: 0.3344 - val_accuracy: 0.9344\n",
            "Epoch 11/20\n",
            "380/380 [==============================] - 216s 569ms/step - loss: 0.0691 - accuracy: 0.9824 - val_loss: 0.2774 - val_accuracy: 0.9459\n",
            "Epoch 12/20\n",
            "380/380 [==============================] - 218s 573ms/step - loss: 0.0872 - accuracy: 0.9742 - val_loss: 0.3051 - val_accuracy: 0.9344\n",
            "Epoch 13/20\n",
            "380/380 [==============================] - 223s 586ms/step - loss: 0.0695 - accuracy: 0.9780 - val_loss: 0.4671 - val_accuracy: 0.9235\n",
            "Epoch 14/20\n",
            "380/380 [==============================] - 223s 586ms/step - loss: 0.0760 - accuracy: 0.9799 - val_loss: 0.3324 - val_accuracy: 0.9322\n",
            "Epoch 15/20\n",
            "380/380 [==============================] - 222s 585ms/step - loss: 0.0582 - accuracy: 0.9833 - val_loss: 1.1380 - val_accuracy: 0.8661\n",
            "Epoch 16/20\n",
            "380/380 [==============================] - 222s 585ms/step - loss: 0.0646 - accuracy: 0.9811 - val_loss: 0.3356 - val_accuracy: 0.9366\n",
            "Epoch 17/20\n",
            "380/380 [==============================] - 222s 583ms/step - loss: 0.0839 - accuracy: 0.9762 - val_loss: 0.2812 - val_accuracy: 0.9393\n",
            "Epoch 18/20\n",
            "380/380 [==============================] - 221s 582ms/step - loss: 0.0722 - accuracy: 0.9796 - val_loss: 0.4412 - val_accuracy: 0.9372\n",
            "Epoch 19/20\n",
            "380/380 [==============================] - 221s 581ms/step - loss: 0.0555 - accuracy: 0.9834 - val_loss: 0.3501 - val_accuracy: 0.9388\n",
            "Epoch 20/20\n",
            "380/380 [==============================] - 222s 585ms/step - loss: 0.0497 - accuracy: 0.9874 - val_loss: 0.2683 - val_accuracy: 0.9464\n"
          ]
        }
      ]
    },
    {
      "cell_type": "code",
      "source": [
        "r2_new_split = model2\n",
        "\n",
        "r2_new_split.fit_generator(train_set2, \n",
        "                          validation_data=test_set2,\n",
        "                          epochs=10,\n",
        "                          steps_per_epoch=len(train_set2),\n",
        "                          validation_steps=len(test_set2),\n",
        "                          #callbacks=[early]\n",
        "                          )"
      ],
      "metadata": {
        "colab": {
          "base_uri": "https://localhost:8080/"
        },
        "id": "KfcOoAdacVzq",
        "outputId": "5ee256af-02e3-458c-dd88-fc1f6a201e35"
      },
      "execution_count": 68,
      "outputs": [
        {
          "output_type": "stream",
          "name": "stderr",
          "text": [
            "/usr/local/lib/python3.7/dist-packages/ipykernel_launcher.py:7: UserWarning: `Model.fit_generator` is deprecated and will be removed in a future version. Please use `Model.fit`, which supports generators.\n",
            "  import sys\n"
          ]
        },
        {
          "output_type": "stream",
          "name": "stdout",
          "text": [
            "Epoch 1/10\n",
            "380/380 [==============================] - 223s 586ms/step - loss: 0.0455 - accuracy: 0.9875 - val_loss: 0.3513 - val_accuracy: 0.9344\n",
            "Epoch 2/10\n",
            "380/380 [==============================] - 221s 582ms/step - loss: 0.0683 - accuracy: 0.9791 - val_loss: 0.2727 - val_accuracy: 0.9519\n",
            "Epoch 3/10\n",
            "380/380 [==============================] - 219s 576ms/step - loss: 0.0478 - accuracy: 0.9867 - val_loss: 0.4003 - val_accuracy: 0.9306\n",
            "Epoch 4/10\n",
            "380/380 [==============================] - 214s 564ms/step - loss: 0.0499 - accuracy: 0.9853 - val_loss: 0.3058 - val_accuracy: 0.9355\n",
            "Epoch 5/10\n",
            "380/380 [==============================] - 213s 562ms/step - loss: 0.0791 - accuracy: 0.9787 - val_loss: 0.3889 - val_accuracy: 0.9208\n",
            "Epoch 6/10\n",
            "380/380 [==============================] - 215s 565ms/step - loss: 0.0702 - accuracy: 0.9784 - val_loss: 0.2181 - val_accuracy: 0.9470\n",
            "Epoch 7/10\n",
            "380/380 [==============================] - 214s 564ms/step - loss: 0.0623 - accuracy: 0.9807 - val_loss: 0.3132 - val_accuracy: 0.9372\n",
            "Epoch 8/10\n",
            "380/380 [==============================] - 213s 561ms/step - loss: 0.0553 - accuracy: 0.9832 - val_loss: 0.2451 - val_accuracy: 0.9536\n",
            "Epoch 9/10\n",
            "380/380 [==============================] - 214s 562ms/step - loss: 0.0399 - accuracy: 0.9863 - val_loss: 0.3462 - val_accuracy: 0.9306\n",
            "Epoch 10/10\n",
            "380/380 [==============================] - 215s 566ms/step - loss: 0.0506 - accuracy: 0.9837 - val_loss: 0.4189 - val_accuracy: 0.9290\n"
          ]
        },
        {
          "output_type": "execute_result",
          "data": {
            "text/plain": [
              "<keras.callbacks.History at 0x7f94d2b2d2d0>"
            ]
          },
          "metadata": {},
          "execution_count": 68
        }
      ]
    },
    {
      "cell_type": "code",
      "source": [
        "len(train_set)"
      ],
      "metadata": {
        "colab": {
          "base_uri": "https://localhost:8080/"
        },
        "id": "AaI16LpdzvEA",
        "outputId": "db25ed81-1b13-4488-c215-117208b5b981"
      },
      "execution_count": 69,
      "outputs": [
        {
          "output_type": "execute_result",
          "data": {
            "text/plain": [
              "282"
            ]
          },
          "metadata": {},
          "execution_count": 69
        }
      ]
    },
    {
      "cell_type": "code",
      "source": [],
      "metadata": {
        "id": "PuuQbxZkjAek",
        "colab": {
          "base_uri": "https://localhost:8080/",
          "height": 89
        },
        "outputId": "07de22db-4d5b-4f44-b620-a8c9c7b30e14"
      },
      "execution_count": 70,
      "outputs": [
        {
          "output_type": "execute_result",
          "data": {
            "text/plain": [
              "'\\n#vgg model fit\\nr2 = model2.fit_generator(train_set, \\n                        validation_data=test_set,\\n                        epochs=20,\\n                        steps_per_epoch=len(train_set),\\n                        validation_steps=len(test_set)\\n                        )\\n\\n                        '"
            ],
            "application/vnd.google.colaboratory.intrinsic+json": {
              "type": "string"
            }
          },
          "metadata": {},
          "execution_count": 70
        }
      ]
    },
    {
      "cell_type": "code",
      "source": [],
      "metadata": {
        "id": "leKc-1Hp88NL",
        "colab": {
          "base_uri": "https://localhost:8080/",
          "height": 143
        },
        "outputId": "5dd2284b-94dd-43f7-f2a4-2f6d9c9d6d13"
      },
      "execution_count": 71,
      "outputs": [
        {
          "output_type": "execute_result",
          "data": {
            "text/plain": [
              "\"\\n#inception v3 plots\\n# plot the loss\\nplt.plot(r.history['loss'], label='train loss')\\nplt.plot(r.history['val_loss'], label='val loss')\\nplt.legend()\\nplt.show()\\nplt.savefig('IV3_LossVal_loss')\\n\\n# plot the accuracy\\nplt.plot(r.history['accuracy'], label='train acc')\\nplt.plot(r.history['val_accuracy'], label='val acc')\\nplt.legend()\\nplt.show()\\nplt.savefig('IV3_AccVal_acc')\\n\\n\\n#at epochs=5, training loss is level, val loss is at a local minimum, 5 epochs may be ideal\\n#at epochs=5, val acc is at local max, train acc is level, 5 epochs may be ideal\\n\""
            ],
            "application/vnd.google.colaboratory.intrinsic+json": {
              "type": "string"
            }
          },
          "metadata": {},
          "execution_count": 71
        }
      ]
    },
    {
      "cell_type": "code",
      "source": [
        "#vgg16 plots\n",
        "\n",
        "# plot the loss\n",
        "plt.plot(r2.history['loss'], label='train loss')\n",
        "plt.plot(r2.history['val_loss'], label='val loss')\n",
        "plt.xlabel('number of epochs')\n",
        "plt.ylabel('Loss')\n",
        "plt.legend()\n",
        "plt.savefig('TL_loss_old_split')\n",
        "plt.show()\n",
        "\n",
        "\n",
        "# plot the accuracy\n",
        "plt.plot(r2.history['accuracy'], label='train acc')\n",
        "plt.plot(r2.history['val_accuracy'], label='val acc')\n",
        "plt.xlabel('number of epochs')\n",
        "plt.ylabel('Accuracy')\n",
        "plt.yticks([0.0, 0.2, 0.4, 0.6, 0.8, 1.0])\n",
        "plt.legend()\n",
        "plt.savefig('TL_acc_old_split')\n",
        "plt.show()\n",
        "\n",
        "\n",
        "#epochs = 12 minimizes loss and maximizes accuracy"
      ],
      "metadata": {
        "colab": {
          "base_uri": "https://localhost:8080/",
          "height": 557
        },
        "id": "wrExH_dx88Pj",
        "outputId": "590cd29d-bb60-49fe-8066-2a9038b081f7"
      },
      "execution_count": 72,
      "outputs": [
        {
          "output_type": "display_data",
          "data": {
            "text/plain": [
              "<Figure size 432x288 with 1 Axes>"
            ],
            "image/png": "[encoded data removed]"
          },
          "metadata": {}
        },
        {
          "output_type": "display_data",
          "data": {
            "text/plain": [
              "<Figure size 432x288 with 1 Axes>"
            ],
            "image/png": "[encoded data removed]"
          },
          "metadata": {}
        }
      ]
    },
    {
      "cell_type": "code",
      "source": [
        "#it seems like .9855 accuracy for inception v3 and .9999 accuracy for vgg16\n"
      ],
      "metadata": {
        "id": "lG36cyZM8vEk"
      },
      "execution_count": 73,
      "outputs": []
    },
    {
      "cell_type": "code",
      "source": [],
      "metadata": {
        "id": "o-XwqgoW8vG6"
      },
      "execution_count": 74,
      "outputs": []
    },
    {
      "cell_type": "code",
      "source": [
        "#vgg16 plots new split\n",
        "\n",
        "# plot the loss\n",
        "plt.plot(r2_for_plots.history['loss'], label='train loss')\n",
        "plt.plot(r2_for_plots.history['val_loss'], label='val loss')\n",
        "plt.xlabel('number of epochs')\n",
        "plt.ylabel('Loss')\n",
        "plt.yticks([0.0, 0.5, 1.0, 1.5, 2.0,2.5])\n",
        "plt.legend()\n",
        "plt.savefig('TL_loss_new_split')\n",
        "plt.show()\n",
        "\n",
        "\n",
        "# plot the accuracy\n",
        "plt.plot(r2_for_plots.history['accuracy'], label='train acc')\n",
        "plt.plot(r2_for_plots.history['val_accuracy'], label='val acc')\n",
        "plt.xlabel('number of epochs')\n",
        "plt.ylabel('Accuracy')\n",
        "plt.yticks([0.0, 0.2, 0.4, 0.6, 0.8, 1.0])\n",
        "plt.legend()\n",
        "plt.savefig('TL_acc_new_split')\n",
        "plt.show()\n",
        "\n",
        "\n"
      ],
      "metadata": {
        "colab": {
          "base_uri": "https://localhost:8080/",
          "height": 561
        },
        "id": "DRlMe882yT8_",
        "outputId": "ecb5f18b-f20b-417b-9df7-7774f2ece025"
      },
      "execution_count": 83,
      "outputs": [
        {
          "output_type": "display_data",
          "data": {
            "text/plain": [
              "<Figure size 432x288 with 1 Axes>"
            ],
            "image/png": "[encoded data removed]"
          },
          "metadata": {}
        },
        {
          "output_type": "display_data",
          "data": {
            "text/plain": [
              "<Figure size 432x288 with 1 Axes>"
            ],
            "image/png": "[encoded data removed]"
          },
          "metadata": {}
        }
      ]
    },
    {
      "cell_type": "code",
      "source": [
        "type(r2_new_split)"
      ],
      "metadata": {
        "colab": {
          "base_uri": "https://localhost:8080/"
        },
        "id": "iNzOuWqO5-Ms",
        "outputId": "9c1f2d9d-a266-4c80-85ce-064aa732643e"
      },
      "execution_count": 76,
      "outputs": [
        {
          "output_type": "execute_result",
          "data": {
            "text/plain": [
              "keras.engine.functional.Functional"
            ]
          },
          "metadata": {},
          "execution_count": 76
        }
      ]
    },
    {
      "cell_type": "code",
      "source": [
        "\n",
        "#trying to plot a confusion matrix \n",
        "\n",
        "from sklearn.metrics import confusion_matrix\n",
        "import itertools\n",
        "\n",
        "\n",
        "#model_variable = r2_new_split\n",
        "\n",
        "#predictions = r2_new_split.predict(test_set2)\n",
        "#predictions\n",
        "\n",
        "num_of_test_samples = 1830\n",
        "batch_size = 30\n",
        "\n",
        "Y_pred = r2_new_split.predict(test_set2, num_of_test_samples // batch_size+1)\n",
        "y_pred = np.argmax(Y_pred, axis=1)\n",
        "\n",
        "\n",
        "cm = confusion_matrix(y_true = test_set2.classes, y_pred=y_pred, labels=test_set2.classes)\n",
        "\n"
      ],
      "metadata": {
        "id": "sZnSN3B1yUCi"
      },
      "execution_count": 77,
      "outputs": []
    },
    {
      "cell_type": "code",
      "source": [
        "from sklearn.metrics import ConfusionMatrixDisplay\n",
        "\n",
        "disp = ConfusionMatrixDisplay.from_predictions(test_set2.classes, y_pred)\n",
        "\n",
        "#disp.plot()\n",
        "\n",
        "plt.show()"
      ],
      "metadata": {
        "colab": {
          "base_uri": "https://localhost:8080/",
          "height": 289
        },
        "id": "9WvJ0DwT90AZ",
        "outputId": "eecdb7be-9bdb-42b5-bd09-9e7f450d3943"
      },
      "execution_count": 78,
      "outputs": [
        {
          "output_type": "display_data",
          "data": {
            "text/plain": [
              "<Figure size 432x288 with 2 Axes>"
            ],
            "image/png": "[encoded data removed]"
          },
          "metadata": {}
        }
      ]
    },
    {
      "cell_type": "code",
      "source": [],
      "metadata": {
        "colab": {
          "base_uri": "https://localhost:8080/"
        },
        "id": "nzwWfDMtOzsU",
        "outputId": "b4b54b91-e2d4-49d4-d3b3-02b1bd4228b3"
      },
      "execution_count": 79,
      "outputs": [
        {
          "output_type": "stream",
          "name": "stdout",
          "text": [
            "1830\n",
            "1830\n"
          ]
        }
      ]
    },
    {
      "cell_type": "code",
      "source": [],
      "metadata": {
        "id": "uSHfEjmVHenP",
        "colab": {
          "base_uri": "https://localhost:8080/"
        },
        "outputId": "a806174e-21fa-45ff-da82-d68ebc9d974f"
      },
      "execution_count": 80,
      "outputs": [
        {
          "output_type": "execute_result",
          "data": {
            "text/plain": [
              "keras.preprocessing.image.DirectoryIterator"
            ]
          },
          "metadata": {},
          "execution_count": 80
        }
      ]
    },
    {
      "cell_type": "code",
      "source": [],
      "metadata": {
        "id": "AmbpkUe9yUFA",
        "colab": {
          "base_uri": "https://localhost:8080/",
          "height": 169
        },
        "outputId": "76a64077-0e0f-4801-be99-0ddd2c080c1b"
      },
      "execution_count": 81,
      "outputs": [
        {
          "output_type": "error",
          "ename": "KeyboardInterrupt",
          "evalue": "ignored",
          "traceback": [
            "\u001b[0;31m---------------------------------------------------------------------------\u001b[0m",
            "\u001b[0;31mKeyboardInterrupt\u001b[0m                         Traceback (most recent call last)",
            "\u001b[0;32m<ipython-input-81-534b7a74019f>\u001b[0m in \u001b[0;36m<module>\u001b[0;34m\u001b[0m\n\u001b[0;32m----> 1\u001b[0;31m \u001b[0;32mwhile\u001b[0m \u001b[0;32mTrue\u001b[0m\u001b[0;34m:\u001b[0m\u001b[0;32mpass\u001b[0m\u001b[0;34m\u001b[0m\u001b[0;34m\u001b[0m\u001b[0m\n\u001b[0m",
            "\u001b[0;31mKeyboardInterrupt\u001b[0m: "
          ]
        }
      ]
    },
    {
      "cell_type": "code",
      "source": [],
      "metadata": {
        "id": "H6El3t7HyUHX"
      },
      "execution_count": null,
      "outputs": []
    },
    {
      "cell_type": "code",
      "source": [],
      "metadata": {
        "id": "mCa_v6_yyUJ9"
      },
      "execution_count": null,
      "outputs": []
    }
  ]
}